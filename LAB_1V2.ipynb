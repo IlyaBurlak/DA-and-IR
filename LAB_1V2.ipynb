{
  "nbformat": 4,
  "nbformat_minor": 0,
  "metadata": {
    "colab": {
      "private_outputs": true,
      "provenance": [],
      "authorship_tag": "ABX9TyMkYjeIDImII5Zdmap5hQzI",
      "include_colab_link": true
    },
    "kernelspec": {
      "name": "python3",
      "display_name": "Python 3"
    },
    "language_info": {
      "name": "python"
    }
  },
  "cells": [
    {
      "cell_type": "markdown",
      "metadata": {
        "id": "view-in-github",
        "colab_type": "text"
      },
      "source": [
        "<a href=\"https://colab.research.google.com/github/IlyaBurlak/DA-and-IR/blob/main/LAB_1V2.ipynb\" target=\"_parent\"><img src=\"https://colab.research.google.com/assets/colab-badge.svg\" alt=\"Open In Colab\"/></a>"
      ]
    },
    {
      "cell_type": "markdown",
      "source": [
        "# Установка необходимых библиотек"
      ],
      "metadata": {
        "id": "BBjQRi4q1Y7-"
      }
    },
    {
      "cell_type": "code",
      "source": [
        "%%capture\n",
        "!pip install feedparser yake networkx python-louvain matplotlib plotly\n",
        "!pip install transformers tqdm"
      ],
      "metadata": {
        "id": "L5GWhSy91bWh"
      },
      "execution_count": null,
      "outputs": []
    },
    {
      "cell_type": "markdown",
      "source": [
        "# Импорт библиотек"
      ],
      "metadata": {
        "id": "6D5kuW-l1eRE"
      }
    },
    {
      "cell_type": "code",
      "source": [
        "import feedparser\n",
        "import urllib.request as libreq\n",
        "import pandas as pd\n",
        "from transformers import pipeline\n",
        "import networkx as nx\n",
        "from itertools import combinations, chain\n",
        "import matplotlib.pyplot as plt\n",
        "import matplotlib.colors as mcolors\n",
        "from operator import itemgetter\n",
        "import plotly.graph_objects as go\n",
        "from community import community_louvain\n",
        "from tqdm import tqdm\n",
        "import yake"
      ],
      "metadata": {
        "id": "JlbNJQGa1fML"
      },
      "execution_count": null,
      "outputs": []
    },
    {
      "cell_type": "markdown",
      "source": [
        "# Сбор данных с arXiv"
      ],
      "metadata": {
        "id": "x-VbigOD1jTj"
      }
    },
    {
      "cell_type": "code",
      "source": [
        "def fetch_articles(query, max_results=300):\n",
        "    url = f'http://export.arxiv.org/api/query?search_query=all:{query}&start=0&max_results={max_results}'\n",
        "    with libreq.urlopen(url) as url:\n",
        "        data = url.read()\n",
        "    return data\n",
        "\n",
        "data = fetch_articles('python', 300)\n",
        "docs = feedparser.parse(data)\n",
        "\n",
        "pubs = []\n",
        "for entry in docs[\"entries\"]:\n",
        "    data = {\n",
        "        \"title\": entry['title'],\n",
        "        \"abstract\": entry['summary'],\n",
        "        \"authors\": [author['name'] for author in entry['authors']],\n",
        "        \"tags\": [tag['term'] for tag in entry.get('tags', [])]\n",
        "    }\n",
        "    pubs.append(data)\n",
        "\n",
        "df = pd.DataFrame(pubs)\n",
        "print(f\"Загружено статей: {len(df)}\")"
      ],
      "metadata": {
        "id": "VxYF9-VK1hPD"
      },
      "execution_count": null,
      "outputs": []
    },
    {
      "cell_type": "markdown",
      "source": [
        "# Извлечение ключевых слов с помощью YAKE"
      ],
      "metadata": {
        "id": "_LYDaqWq1oF_"
      }
    },
    {
      "cell_type": "code",
      "source": [
        "tqdm.pandas()\n",
        "\n",
        "# Функция для извлечения ключевых слов\n",
        "def extract_keywords(text):\n",
        "    keyword_extractor = yake.KeywordExtractor(lan=\"en\", n=2, dedupLim=0.5, top=5)\n",
        "    keywords = keyword_extractor.extract_keywords(text)\n",
        "    return [kw[0] for kw in keywords if 'python' not in kw[0].lower()]\n",
        "\n",
        "# Применение функции к абстрактам\n",
        "df['keywords'] = df['abstract'].progress_apply(extract_keywords)\n",
        "\n",
        "# Просмотр результатов\n",
        "print(\"Пример извлеченных ключевых слов:\")\n",
        "print(df[['title', 'keywords']].head(3))"
      ],
      "metadata": {
        "id": "YEfYq_CB1qeI"
      },
      "execution_count": null,
      "outputs": []
    },
    {
      "cell_type": "markdown",
      "source": [
        "# Построение графа ключевых слов\n"
      ],
      "metadata": {
        "id": "F3fQN2591s_i"
      }
    },
    {
      "cell_type": "code",
      "source": [
        "# Создание списка ключевых слов\n",
        "klist = df[\"keywords\"].tolist()\n",
        "\n",
        "# Создание ребер (связей между ключевыми словами)\n",
        "edges = list(chain(*[list(combinations(words, 2)) for words in klist]))\n",
        "edges = [tuple(sorted(edge)) for edge in edges]\n",
        "weighted_edges = [(edge[0], edge[1], {\"weight\": edges.count(edge)}) for edge in set(edges)]\n",
        "\n",
        "print(f\"Всего уникальных ребер: {len(weighted_edges)}\")\n",
        "\n",
        "# Создание графа\n",
        "G = nx.Graph()\n",
        "G.add_edges_from(weighted_edges)\n",
        "\n",
        "# Базовая визуализация графа\n",
        "plt.figure(figsize=(12, 8))\n",
        "nx.draw(G, with_labels=False, node_size=30, alpha=0.6)\n",
        "plt.title(\"Граф ключевых слов\")\n",
        "plt.show()"
      ],
      "metadata": {
        "id": "7qwm1CDg1uIS"
      },
      "execution_count": null,
      "outputs": []
    },
    {
      "cell_type": "markdown",
      "source": [
        "# Кластеризация и анализ сообществ\n"
      ],
      "metadata": {
        "id": "0cweN3Sy1w8S"
      }
    },
    {
      "cell_type": "code",
      "source": [
        "# Выявление сообществ с помощью алгоритма Лувена\n",
        "communities = community_louvain.best_partition(G)\n",
        "modularity = community_louvain.modularity(communities, G)\n",
        "print(f\"Модулярность кластеризации: {modularity:.3f}\")\n",
        "\n",
        "# Визуализация топ-3 сообществ\n",
        "top_comms = pd.Series(communities).value_counts().head(3).index\n",
        "nodes = [node for node, comm in communities.items() if comm in top_comms]\n",
        "S = G.subgraph(nodes)\n",
        "\n",
        "node_colors = [communities[node] for node in S.nodes()]\n",
        "plt.figure(figsize=(12, 8))\n",
        "nx.draw(S, node_color=node_colors, cmap=plt.cm.Set3, with_labels=True, font_size=8)\n",
        "plt.title(\"Топ-3 сообщества ключевых слов\")\n",
        "plt.show()"
      ],
      "metadata": {
        "id": "-s3jgnpU1xn7"
      },
      "execution_count": null,
      "outputs": []
    },
    {
      "cell_type": "markdown",
      "source": [
        "# Интерактивная визуализация графа\n"
      ],
      "metadata": {
        "id": "cMpsjgx62cz3"
      }
    },
    {
      "cell_type": "code",
      "source": [
        "# Подготовка данных для интерактивной визуализации\n",
        "pos = nx.spring_layout(S, iterations=50, seed=42)\n",
        "edge_x, edge_y = [], []\n",
        "for edge in S.edges():\n",
        "    x0, y0 = pos[edge[0]]\n",
        "    x1, y1 = pos[edge[1]]\n",
        "    edge_x.extend([x0, x1, None])\n",
        "    edge_y.extend([y0, y1, None])\n",
        "\n",
        "node_x = [pos[node][0] for node in S.nodes()]\n",
        "node_y = [pos[node][1] for node in S.nodes()]\n",
        "\n",
        "# Создание интерактивного графа\n",
        "fig = go.Figure()\n",
        "\n",
        "# Добавление ребер\n",
        "fig.add_trace(go.Scatter(\n",
        "    x=edge_x, y=edge_y,\n",
        "    line=dict(width=0.5, color='#888'),\n",
        "    hoverinfo='none',\n",
        "    mode='lines'\n",
        "))\n",
        "\n",
        "# Создание правильной цветовой шкалы\n",
        "colorscale = [\n",
        "    [0, 'rgb(141,211,199)'],\n",
        "    [0.5, 'rgb(255,255,179)'],\n",
        "    [1, 'rgb(190,186,218)']\n",
        "]\n",
        "\n",
        "# Добавление узлов\n",
        "fig.add_trace(go.Scatter(\n",
        "    x=node_x, y=node_y,\n",
        "    mode='markers+text',\n",
        "    text=list(S.nodes()),\n",
        "    textposition=\"bottom center\",\n",
        "    marker=dict(\n",
        "        size=10,\n",
        "        color=node_colors,\n",
        "        colorscale=colorscale,\n",
        "        showscale=False\n",
        "    )\n",
        "))\n",
        "\n",
        "fig.update_layout(\n",
        "    title=\"Интерактивная визуализация сообществ\",\n",
        "    showlegend=False,\n",
        "    hovermode='closest'\n",
        ")\n",
        "fig.show()"
      ],
      "metadata": {
        "id": "Pxs4O9mu12LH"
      },
      "execution_count": null,
      "outputs": []
    },
    {
      "cell_type": "markdown",
      "source": [
        "# Анализ центральности ключевых слов\n"
      ],
      "metadata": {
        "id": "70F9ds3U17ZT"
      }
    },
    {
      "cell_type": "code",
      "source": [
        "# Расчет и отображение центральных ключевых слов\n",
        "centrality = nx.degree_centrality(S)\n",
        "top_nodes = sorted(centrality.items(), key=itemgetter(1), reverse=True)[:10]\n",
        "\n",
        "print(\"Наиболее центральные ключевые слова:\")\n",
        "for node, centr in top_nodes:\n",
        "    print(f\"{node}: {centr:.3f}\")"
      ],
      "metadata": {
        "id": "WbwwG3K-13Nj"
      },
      "execution_count": null,
      "outputs": []
    },
    {
      "cell_type": "markdown",
      "source": [
        "# Поиск похожих статей\n"
      ],
      "metadata": {
        "id": "tPg0ysei1-5l"
      }
    },
    {
      "cell_type": "code",
      "source": [
        "# Функция для поиска похожих статей по ключевым словам\n",
        "def find_similar_articles(article_id, df, top_n=3):\n",
        "    target_keywords = set(df.iloc[article_id]['keywords'])\n",
        "    similarities = []\n",
        "\n",
        "    for idx, row in df.iterrows():\n",
        "        if idx == article_id:\n",
        "            continue\n",
        "        other_keywords = set(row['keywords'])\n",
        "        if len(target_keywords | other_keywords) == 0:\n",
        "            continue\n",
        "        similarity = len(target_keywords & other_keywords) / len(target_keywords | other_keywords)\n",
        "        similarities.append((idx, similarity))\n",
        "\n",
        "    similarities.sort(key=lambda x: x[1], reverse=True)\n",
        "    return similarities[:top_n]\n",
        "\n",
        "# Пример использования\n",
        "article_id = 0\n",
        "similar = find_similar_articles(article_id, df)\n",
        "\n",
        "print(f\"Статья для сравнения: {df.iloc[article_id]['title'][:50]}...\")\n",
        "print(\"\\nБлижайшие статьи:\")\n",
        "for art_id, sim in similar:\n",
        "    print(f\"Статья {art_id}: {df.iloc[art_id]['title'][:50]}... \")"
      ],
      "metadata": {
        "id": "oYKPrrdI18z9"
      },
      "execution_count": null,
      "outputs": []
    },
    {
      "cell_type": "code",
      "source": [
        "# Сохранение DataFrame с ключевыми словами\n",
        "df.to_csv(\"arxiv_python_articles.csv\", index=False)\n",
        "print(\"Результаты сохранены в файл arxiv_python_articles.csv\")"
      ],
      "metadata": {
        "id": "C_juE1GV2D-j"
      },
      "execution_count": null,
      "outputs": []
    }
  ]
}